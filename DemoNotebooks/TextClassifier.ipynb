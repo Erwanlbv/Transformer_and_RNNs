{
 "cells": [
  {
   "cell_type": "markdown",
   "metadata": {},
   "source": [
    "### Classificateur de texte basique : Embedding & Dropout\n",
    "\n",
    "Avec la base de données IMBD (50 000 avis sur des films pos/neg)\n"
   ]
  },
  {
   "cell_type": "code",
   "execution_count": 1,
   "metadata": {},
   "outputs": [],
   "source": [
    "import os \n",
    "import re \n",
    "import string\n",
    "\n",
    "import tensorflow as tf"
   ]
  },
  {
   "cell_type": "markdown",
   "metadata": {},
   "source": [
    "### Récupération des ensembles de données"
   ]
  },
  {
   "cell_type": "code",
   "execution_count": 2,
   "metadata": {},
   "outputs": [
    {
     "name": "stdout",
     "output_type": "stream",
     "text": [
      "Found 25000 files belonging to 2 classes.\n",
      "Using 20000 files for training.\n"
     ]
    },
    {
     "name": "stderr",
     "output_type": "stream",
     "text": [
      "2022-07-04 14:59:42.195616: I tensorflow/core/platform/cpu_feature_guard.cc:193] This TensorFlow binary is optimized with oneAPI Deep Neural Network Library (oneDNN) to use the following CPU instructions in performance-critical operations:  AVX2 FMA\n",
      "To enable them in other operations, rebuild TensorFlow with the appropriate compiler flags.\n"
     ]
    }
   ],
   "source": [
    "batch_size = 32\n",
    "seed = 1\n",
    "\n",
    "raw_train_ds = tf.keras.utils.text_dataset_from_directory(\n",
    "    'aclImdb/train', \n",
    "    batch_size=batch_size, \n",
    "    validation_split=0.2, \n",
    "    subset='training', \n",
    "    seed=seed)\n",
    "\n",
    "# Ensemble de validation :\n",
    "raw_val_ds = tf.keras.utils.text_dataset_from_directory(\n",
    "    'aclImdb/train', \n",
    "    batch_size=batch_size, \n",
    "    validation_split=0.2, \n",
    "    subset='validation', \n",
    "    seed=seed)\n",
    "\n",
    "# Ensemble de test :\n",
    "raw_test_ds = tf.keras.utils.text_dataset_from_directory(\n",
    "    'aclImdb/test', \n",
    "    batch_size=batch_size)"
   ]
  },
  {
   "cell_type": "markdown",
   "metadata": {},
   "source": [
    "- Définition du tokenizer"
   ]
  },
  {
   "cell_type": "code",
   "execution_count": 4,
   "metadata": {},
   "outputs": [],
   "source": [
    "def custom_standardization(input_data):\n",
    "    \"\"\"\n",
    "    Les ensembes de données contiennent des caractères html, la segmentation basique de TextVect \n",
    "    ne permet de les enlever d'où cette segmentation spécifique\n",
    "    \"\"\"\n",
    "    lowercase = tf.strings.lower(input_data)\n",
    "    stripped_html = tf.strings.regex_replace(lowercase, '<br />', ' ')\n",
    "    \n",
    "    return tf.strings.regex_replace(stripped_html,\n",
    "    '[%s]' % re.escape(string.punctuation),\n",
    "    '')"
   ]
  },
  {
   "cell_type": "code",
   "execution_count": 5,
   "metadata": {},
   "outputs": [],
   "source": [
    "vocab_size = 10000\n",
    "sequence_length = 200\n",
    "\n",
    "tokenizer_layer = tf.keras.layers.TextVectorization(\n",
    "    standardize=custom_standardization,\n",
    "    max_tokens=vocab_size,\n",
    "    output_mode='int',\n",
    "    output_sequence_length=sequence_length\n",
    ")\n",
    "tokenizer_layer.adapt(raw_train_ds.map(lambda text, label: text)) # Création du vocabulaire (les labels ne sont pas utiles)"
   ]
  },
  {
   "cell_type": "code",
   "execution_count": 6,
   "metadata": {},
   "outputs": [
    {
     "name": "stdout",
     "output_type": "stream",
     "text": [
      "10 --->  i\n",
      "80 --->  bad\n",
      "6458 --->  whining\n",
      "Vocabulary size: 10000\n"
     ]
    }
   ],
   "source": [
    "print(\"10 ---> \",tokenizer_layer.get_vocabulary()[10])\n",
    "print(\"80 ---> \",tokenizer_layer.get_vocabulary()[80])\n",
    "print(\"6458 ---> \",tokenizer_layer.get_vocabulary()[6458])\n",
    "print('Vocabulary size: {}'.format(len(tokenizer_layer.get_vocabulary())))"
   ]
  },
  {
   "cell_type": "markdown",
   "metadata": {},
   "source": [
    "### Segmentation des données avant d'entraîner le modèle \n",
    "Ce qui revient au même que segmenter les données au fur et à mesure pendant l'entraînement,\n",
    "c'est juste un peu plus rapide."
   ]
  },
  {
   "cell_type": "code",
   "execution_count": 1,
   "metadata": {},
   "outputs": [],
   "source": [
    "# Fonction de segmentation de l'ensemble des données\n",
    "def ds_tokenizer(text, label):\n",
    "    \"\"\"\n",
    "    Prend en paramètre un élement d'un ensemble de données (texte, label) et le segmente\n",
    "    avec le tokenizer_layer défini ci-dessus\n",
    "    \"\"\"\n",
    "    \n",
    "    text = tf.expand_dims(text, -1)\n",
    "    tokenized_text = tokenizer_layer(text)\n",
    "    return tokenized_text, label"
   ]
  },
  {
   "cell_type": "code",
   "execution_count": 8,
   "metadata": {},
   "outputs": [],
   "source": [
    "# On segmente les ensembles de données\n",
    "train_ds = raw_train_ds.map(ds_tokenizer)\n",
    "val_ds = raw_val_ds.map(ds_tokenizer)\n",
    "test_ds = raw_test_ds.map(ds_tokenizer)\n",
    "\n",
    "# Et on les prépare à l'entraînement\n",
    "### Sans Autotune c'est environ 2 sec de plus d'entraînement sur la \n",
    "### première epoch et une seconde de plus sur toutes les autres, même\n",
    "### sur une base de données aussi petite et un avec modèle aussi simple.\n",
    "\n",
    "AUTOTUNE = tf.data.AUTOTUNE\n",
    "\n",
    "train_ds = train_ds.cache().prefetch(buffer_size=AUTOTUNE)\n",
    "val_ds = val_ds.cache().prefetch(buffer_size=AUTOTUNE)\n",
    "test_ds = test_ds.cache().prefetch(buffer_size=AUTOTUNE)"
   ]
  },
  {
   "cell_type": "code",
   "execution_count": 14,
   "metadata": {},
   "outputs": [
    {
     "name": "stdout",
     "output_type": "stream",
     "text": [
      "Model: \"sequential_1\"\n",
      "_________________________________________________________________\n",
      " Layer (type)                Output Shape              Param #   \n",
      "=================================================================\n",
      " embedding_1 (Embedding)     (None, None, 150)         1500150   \n",
      "                                                                 \n",
      " dropout_2 (Dropout)         (None, None, 150)         0         \n",
      "                                                                 \n",
      " global_average_pooling1d_1   (None, 150)              0         \n",
      " (GlobalAveragePooling1D)                                        \n",
      "                                                                 \n",
      " dropout_3 (Dropout)         (None, 150)               0         \n",
      "                                                                 \n",
      " Hi (Dense)                  (None, 1)                 151       \n",
      "                                                                 \n",
      "=================================================================\n",
      "Total params: 1,500,301\n",
      "Trainable params: 1,500,301\n",
      "Non-trainable params: 0\n",
      "_________________________________________________________________\n"
     ]
    }
   ],
   "source": [
    "embedding_dim = 100 # Dimension avec laquelle on représente nos jetons\n",
    "\n",
    "model = tf.keras.Sequential([\n",
    "  tf.keras.layers.Embedding(vocab_size, embedding_dim),\n",
    "  tf.keras.layers.Dropout(0.2),\n",
    "  tf.keras.layers.GlobalAveragePooling1D(),\n",
    "  tf.keras.layers.Dropout(0.2),\n",
    "  tf.keras.layers.Dense(1),]\n",
    ")\n",
    "\n",
    "model.summary()"
   ]
  },
  {
   "cell_type": "code",
   "execution_count": 15,
   "metadata": {},
   "outputs": [],
   "source": [
    "model.compile(\n",
    "    loss=tf.keras.losses.BinaryCrossentropy(from_logits=True),\n",
    "    optimizer=tf.keras.optimizers.Adam(learning_rate=5e-4),\n",
    "    metrics=tf.metrics.BinaryAccuracy(threshold=0.0)\n",
    ")"
   ]
  },
  {
   "cell_type": "code",
   "execution_count": 16,
   "metadata": {},
   "outputs": [
    {
     "name": "stdout",
     "output_type": "stream",
     "text": [
      "Epoch 1/8\n",
      "625/625 [==============================] - 7s 11ms/step - loss: 0.6422 - binary_accuracy: 0.7089 - val_loss: 0.5611 - val_binary_accuracy: 0.7858\n",
      "Epoch 2/8\n",
      "625/625 [==============================] - 7s 11ms/step - loss: 0.4748 - binary_accuracy: 0.8255 - val_loss: 0.4229 - val_binary_accuracy: 0.8372\n",
      "Epoch 3/8\n",
      "625/625 [==============================] - 7s 11ms/step - loss: 0.3691 - binary_accuracy: 0.8616 - val_loss: 0.3627 - val_binary_accuracy: 0.8542\n",
      "Epoch 4/8\n",
      "625/625 [==============================] - 7s 11ms/step - loss: 0.3153 - binary_accuracy: 0.8808 - val_loss: 0.3336 - val_binary_accuracy: 0.8626\n",
      "Epoch 5/8\n",
      "625/625 [==============================] - 7s 11ms/step - loss: 0.2802 - binary_accuracy: 0.8945 - val_loss: 0.3171 - val_binary_accuracy: 0.8656\n",
      "Epoch 6/8\n",
      "625/625 [==============================] - 7s 11ms/step - loss: 0.2545 - binary_accuracy: 0.9056 - val_loss: 0.3077 - val_binary_accuracy: 0.8700\n",
      "Epoch 7/8\n",
      "625/625 [==============================] - 8s 12ms/step - loss: 0.2338 - binary_accuracy: 0.9139 - val_loss: 0.3023 - val_binary_accuracy: 0.8728\n",
      "Epoch 8/8\n",
      "625/625 [==============================] - 7s 12ms/step - loss: 0.2165 - binary_accuracy: 0.9216 - val_loss: 0.2998 - val_binary_accuracy: 0.8736\n"
     ]
    }
   ],
   "source": [
    "epochs = 8  # Pour emb_dim = 100, sur-apprend au-delà de 8 époques\n",
    "\n",
    "history = model.fit(\n",
    "    train_ds,\n",
    "    validation_data=val_ds,\n",
    "    epochs=epochs)"
   ]
  },
  {
   "cell_type": "code",
   "execution_count": 17,
   "metadata": {},
   "outputs": [
    {
     "name": "stdout",
     "output_type": "stream",
     "text": [
      "782/782 [==============================] - 1s 2ms/step - loss: 0.3207 - binary_accuracy: 0.8668\n",
      "Erreur : 0.32067352533340454\n",
      "Précision: 0.8668000102043152\n"
     ]
    }
   ],
   "source": [
    "loss, accuracy = model.evaluate(test_ds)\n",
    "\n",
    "print(f\"Erreur : {loss}\")\n",
    "print(f\"Précision: {accuracy}\")"
   ]
  },
  {
   "cell_type": "markdown",
   "metadata": {},
   "source": [
    "### Exportabilité du modèle "
   ]
  },
  {
   "cell_type": "code",
   "execution_count": 18,
   "metadata": {},
   "outputs": [],
   "source": [
    "# Exportation du modèle\n",
    "export_model = tf.keras.Sequential([\n",
    "  tokenizer_layer,\n",
    "  model,\n",
    "  tf.keras.layers.Activation('sigmoid')\n",
    "])\n",
    "\n",
    "export_model.compile(\n",
    "    loss=tf.keras.losses.BinaryCrossentropy(from_logits=False), optimizer=\"adam\", metrics=['accuracy']\n",
    ")"
   ]
  },
  {
   "cell_type": "code",
   "execution_count": 19,
   "metadata": {},
   "outputs": [
    {
     "name": "stdout",
     "output_type": "stream",
     "text": [
      "782/782 [==============================] - 3s 4ms/step - loss: 0.3207 - accuracy: 0.8668\n",
      "0.8668000102043152\n"
     ]
    }
   ],
   "source": [
    "loss, accuracy = export_model.evaluate(raw_test_ds) # Noter qu'avec la couche de Vect on faire passer l'ensemble de données au format string\n",
    "print(accuracy)"
   ]
  }
 ],
 "metadata": {
  "kernelspec": {
   "display_name": "Python 3.8.2 64-bit",
   "language": "python",
   "name": "python3"
  },
  "language_info": {
   "codemirror_mode": {
    "name": "ipython",
    "version": 3
   },
   "file_extension": ".py",
   "mimetype": "text/x-python",
   "name": "python",
   "nbconvert_exporter": "python",
   "pygments_lexer": "ipython3",
   "version": "3.8.2"
  },
  "orig_nbformat": 4,
  "vscode": {
   "interpreter": {
    "hash": "31f2aee4e71d21fbe5cf8b01ff0e069b9275f58929596ceb00d14d90e3e16cd6"
   }
  }
 },
 "nbformat": 4,
 "nbformat_minor": 2
}
