{
 "cells": [
  {
   "cell_type": "markdown",
   "metadata": {},
   "source": [
    "### Classificateur de texte basique (intro to Tf_hub) - FAST \n",
    "\n",
    "Avec la base de données IMBD (50 000 avis sur des films pos/neg)\n",
    "\n",
    "Reprise du notebook associé *Intro_TextClassification* avec l'essentiel (en code)"
   ]
  },
  {
   "cell_type": "code",
   "execution_count": 1,
   "metadata": {},
   "outputs": [],
   "source": [
    "import os \n",
    "import re \n",
    "import string\n",
    "\n",
    "import tensorflow as tf"
   ]
  },
  {
   "cell_type": "code",
   "execution_count": 6,
   "metadata": {},
   "outputs": [
    {
     "name": "stdout",
     "output_type": "stream",
     "text": [
      "Found 25000 files belonging to 2 classes.\n",
      "Using 20000 files for training.\n",
      "Found 25000 files belonging to 2 classes.\n",
      "Using 5000 files for validation.\n",
      "Found 25000 files belonging to 2 classes.\n"
     ]
    }
   ],
   "source": [
    "path = \"/Users/erwan/Programmes/Stage/dlexperiments/Erwan/Text_Classification/datasets/aclImdb\"\n",
    "batch_size = 32\n",
    "seed = 42\n",
    "\n",
    "raw_train_ds = tf.keras.utils.text_dataset_from_directory(\n",
    "    path + '/train', \n",
    "    batch_size=batch_size, \n",
    "    validation_split=0.2, \n",
    "    subset='training', \n",
    "    seed=seed)\n",
    "\n",
    "    # Ensemble de validation :\n",
    "raw_val_ds = tf.keras.utils.text_dataset_from_directory(\n",
    "    path + '/train', \n",
    "    batch_size=batch_size, \n",
    "    validation_split=0.2, \n",
    "    subset='validation', \n",
    "    seed=seed)\n",
    "\n",
    "# Ensemble de test :\n",
    "raw_test_ds = tf.keras.utils.text_dataset_from_directory(\n",
    "        path + '/test', \n",
    "    batch_size=batch_size)\n",
    "    "
   ]
  },
  {
   "cell_type": "code",
   "execution_count": 5,
   "metadata": {},
   "outputs": [],
   "source": [
    "def custom_standardization(input_data):\n",
    "    lowercase = tf.strings.lower(input_data)\n",
    "    strip_punc = tf.strings.strip()\n",
    "    stripped_html = tf.strings.regex_replace(lowercase, '<br />', ' ')\n",
    "    \n",
    "    return tf.strings.regex_replace(stripped_html,\n",
    "    '[%s]' % re.escape(string.punctuation),\n",
    "    '')"
   ]
  },
  {
   "cell_type": "code",
   "execution_count": 9,
   "metadata": {},
   "outputs": [],
   "source": [
    "vocab_size = 10000\n",
    "max_length = 200\n",
    "\n",
    "tokenizer_layer = tf.keras.layers.TextVectorization(\n",
    "    standardize='lower_and_strip_punctuation',\n",
    "    split='whitespace',\n",
    "    max_tokens=vocab_size,\n",
    "    output_sequence_length=max_length,\n",
    ")\n",
    "\n",
    "tokenizer_layer.adapt(raw_train_ds.map(lambda text, label: text))"
   ]
  },
  {
   "cell_type": "code",
   "execution_count": 10,
   "metadata": {},
   "outputs": [
    {
     "name": "stdout",
     "output_type": "stream",
     "text": [
      "10 --->  i\n",
      "80 --->  other\n",
      "6458 --->  expectation\n",
      "Vocabulary size: 10000\n"
     ]
    }
   ],
   "source": [
    "print(\"10 ---> \",tokenizer_layer.get_vocabulary()[10])\n",
    "print(\"80 ---> \",tokenizer_layer.get_vocabulary()[80])\n",
    "print(\"6458 ---> \",tokenizer_layer.get_vocabulary()[6458])\n",
    "print('Vocabulary size: {}'.format(len(tokenizer_layer.get_vocabulary())))"
   ]
  },
  {
   "cell_type": "code",
   "execution_count": 11,
   "metadata": {},
   "outputs": [],
   "source": [
    "# Fonction de segmentation de l'ensemble des données\n",
    "def vectorize_text(text, label):\n",
    "    text = tf.expand_dims(text, -1)\n",
    "    vectorized_text = tokenizer_layer(text)\n",
    "    return vectorized_text, label"
   ]
  },
  {
   "cell_type": "code",
   "execution_count": 12,
   "metadata": {},
   "outputs": [],
   "source": [
    "# On segmente les ensembles de données\n",
    "train_ds = raw_train_ds.map(vectorize_text)\n",
    "val_ds = raw_val_ds.map(vectorize_text)\n",
    "test_ds = raw_test_ds.map(vectorize_text)\n",
    "\n",
    "# Et on les prépare à l'entraînement\n",
    "### Sans Autotune c'est environ 2 sec de plus d'entraînement sur la \n",
    "### première epoch et une seconde de plus sur toutes les autres, même\n",
    "### sur une base de données aussi petite et un avec modèle aussi simple.\n",
    "\n",
    "AUTOTUNE = tf.data.AUTOTUNE\n",
    "\n",
    "train_ds = train_ds.cache().prefetch(buffer_size=AUTOTUNE)\n",
    "val_ds = val_ds.cache().prefetch(buffer_size=AUTOTUNE)\n",
    "test_ds = test_ds.cache().prefetch(buffer_size=AUTOTUNE)"
   ]
  },
  {
   "cell_type": "code",
   "execution_count": 13,
   "metadata": {},
   "outputs": [],
   "source": [
    "train_ds_iterator = iter(train_ds)"
   ]
  },
  {
   "cell_type": "code",
   "execution_count": 14,
   "metadata": {},
   "outputs": [
    {
     "data": {
      "text/plain": [
       "(TensorShape([32, 200]), TensorShape([32]))"
      ]
     },
     "execution_count": 14,
     "metadata": {},
     "output_type": "execute_result"
    }
   ],
   "source": [
    "text, label = next(train_ds_iterator)\n",
    "text.shape, label.shape"
   ]
  },
  {
   "cell_type": "code",
   "execution_count": 10,
   "metadata": {},
   "outputs": [
    {
     "name": "stdout",
     "output_type": "stream",
     "text": [
      "Model: \"sequential\"\n",
      "_________________________________________________________________\n",
      " Layer (type)                Output Shape              Param #   \n",
      "=================================================================\n",
      " embedding (Embedding)       (None, None, 150)         1500000   \n",
      "                                                                 \n",
      " dropout (Dropout)           (None, None, 150)         0         \n",
      "                                                                 \n",
      " global_average_pooling1d (G  (None, 150)              0         \n",
      " lobalAveragePooling1D)                                          \n",
      "                                                                 \n",
      " dropout_1 (Dropout)         (None, 150)               0         \n",
      "                                                                 \n",
      " dense (Dense)               (None, 1)                 151       \n",
      "                                                                 \n",
      "=================================================================\n",
      "Total params: 1,500,151\n",
      "Trainable params: 1,500,151\n",
      "Non-trainable params: 0\n",
      "_________________________________________________________________\n"
     ]
    }
   ],
   "source": [
    "embedding_dim = 150 # Dimension avec laquelle on représente nos jetons\n",
    "\n",
    "\n",
    "logits_model = tf.keras.Sequential([\n",
    "  tf.keras.layers.Embedding(vocab_size, embedding_dim),\n",
    "  tf.keras.layers.Dropout(0.2),\n",
    "  tf.keras.layers.GlobalAveragePooling1D(),\n",
    "  tf.keras.layers.Dropout(0.2),\n",
    "  tf.keras.layers.Dense(1),  # activation=None de base, la sortie n'est donc pas normalisée\n",
    "])\n",
    "\n",
    "logits_model.compile(\n",
    "  loss=tf.keras.losses.BinaryCrossentropy(from_logits=True),\n",
    "  optimizer=tf.keras.optimizers.Adam(learning_rate=3e-4),\n",
    "  metrics=tf.metrics.BinaryAccuracy(threshold=0.0)\n",
    ")\n",
    "\n",
    "logits_model.summary()"
   ]
  },
  {
   "cell_type": "code",
   "execution_count": 17,
   "metadata": {},
   "outputs": [
    {
     "name": "stdout",
     "output_type": "stream",
     "text": [
      "Model: \"sequential_5\"\n",
      "_________________________________________________________________\n",
      " Layer (type)                Output Shape              Param #   \n",
      "=================================================================\n",
      " embedding_5 (Embedding)     (None, None, 150)         1500000   \n",
      "                                                                 \n",
      " dropout_10 (Dropout)        (None, None, 150)         0         \n",
      "                                                                 \n",
      " global_average_pooling1d_5   (None, 150)              0         \n",
      " (GlobalAveragePooling1D)                                        \n",
      "                                                                 \n",
      " dropout_11 (Dropout)        (None, 150)               0         \n",
      "                                                                 \n",
      " dense_5 (Dense)             (None, 1)                 151       \n",
      "                                                                 \n",
      "=================================================================\n",
      "Total params: 1,500,151\n",
      "Trainable params: 1,500,151\n",
      "Non-trainable params: 0\n",
      "_________________________________________________________________\n"
     ]
    }
   ],
   "source": [
    "model = tf.keras.Sequential([\n",
    "    tf.keras.layers.Embedding(vocab_size, 150),\n",
    "    tf.keras.layers.Dropout(0.2),\n",
    "    tf.keras.layers.GlobalAveragePooling1D(),\n",
    "    tf.keras.layers.Dropout(0.2),\n",
    "    tf.keras.layers.Dense(1, activation='sigmoid') # La sortie est normalisée ici\n",
    "])\n",
    "\n",
    "model.compile(\n",
    "    loss=tf.keras.losses.BinaryCrossentropy(from_logits=False), \n",
    "    optimizer=tf.keras.optimizers.Adam(learning_rate=3e-4),\n",
    "    metrics=tf.metrics.BinaryAccuracy(threshold=0.0)\n",
    ")\n",
    "\n",
    "model.summary()"
   ]
  },
  {
   "cell_type": "code",
   "execution_count": 15,
   "metadata": {},
   "outputs": [
    {
     "name": "stdout",
     "output_type": "stream",
     "text": [
      "Epoch 1/8\n",
      "625/625 [==============================] - 9s 14ms/step - loss: 0.6704 - binary_accuracy: 0.6914 - val_loss: 0.6317 - val_binary_accuracy: 0.7562\n",
      "Epoch 2/8\n",
      "625/625 [==============================] - 7s 12ms/step - loss: 0.5714 - binary_accuracy: 0.7851 - val_loss: 0.5229 - val_binary_accuracy: 0.8068\n",
      "Epoch 3/8\n",
      "625/625 [==============================] - 7s 12ms/step - loss: 0.4678 - binary_accuracy: 0.8309 - val_loss: 0.4424 - val_binary_accuracy: 0.8330\n",
      "Epoch 4/8\n",
      "625/625 [==============================] - 7s 12ms/step - loss: 0.3976 - binary_accuracy: 0.8553 - val_loss: 0.3933 - val_binary_accuracy: 0.8480\n",
      "Epoch 5/8\n",
      "625/625 [==============================] - 7s 12ms/step - loss: 0.3525 - binary_accuracy: 0.8698 - val_loss: 0.3630 - val_binary_accuracy: 0.8560\n",
      "Epoch 6/8\n",
      "625/625 [==============================] - 7s 11ms/step - loss: 0.3207 - binary_accuracy: 0.8795 - val_loss: 0.3429 - val_binary_accuracy: 0.8626\n",
      "Epoch 7/8\n",
      "625/625 [==============================] - 7s 11ms/step - loss: 0.2963 - binary_accuracy: 0.8888 - val_loss: 0.3289 - val_binary_accuracy: 0.8642\n",
      "Epoch 8/8\n",
      "625/625 [==============================] - 7s 11ms/step - loss: 0.2766 - binary_accuracy: 0.8972 - val_loss: 0.3190 - val_binary_accuracy: 0.8658\n"
     ]
    }
   ],
   "source": [
    "epochs = 8      # Pour emb_dim = 150, sur-apprend au-délà de 8 époques\n",
    "logits_history = logits_model.fit(\n",
    "    train_ds,\n",
    "    validation_data=val_ds,\n",
    "    epochs=epochs)"
   ]
  },
  {
   "cell_type": "code",
   "execution_count": 18,
   "metadata": {},
   "outputs": [
    {
     "name": "stdout",
     "output_type": "stream",
     "text": [
      "Epoch 1/8\n",
      "625/625 [==============================] - 8s 12ms/step - loss: 0.6710 - binary_accuracy: 0.4981 - val_loss: 0.6337 - val_binary_accuracy: 0.5076\n",
      "Epoch 2/8\n",
      "625/625 [==============================] - 7s 11ms/step - loss: 0.5742 - binary_accuracy: 0.4981 - val_loss: 0.5257 - val_binary_accuracy: 0.5076\n",
      "Epoch 3/8\n",
      "625/625 [==============================] - 7s 12ms/step - loss: 0.4704 - binary_accuracy: 0.4981 - val_loss: 0.4446 - val_binary_accuracy: 0.5076\n",
      "Epoch 4/8\n",
      "625/625 [==============================] - 8s 13ms/step - loss: 0.3993 - binary_accuracy: 0.4981 - val_loss: 0.3947 - val_binary_accuracy: 0.5076\n",
      "Epoch 5/8\n",
      "625/625 [==============================] - 8s 12ms/step - loss: 0.3541 - binary_accuracy: 0.4981 - val_loss: 0.3641 - val_binary_accuracy: 0.5076\n",
      "Epoch 6/8\n",
      "625/625 [==============================] - 10s 15ms/step - loss: 0.3217 - binary_accuracy: 0.4981 - val_loss: 0.3437 - val_binary_accuracy: 0.5076\n",
      "Epoch 7/8\n",
      "625/625 [==============================] - 18s 29ms/step - loss: 0.2973 - binary_accuracy: 0.4981 - val_loss: 0.3296 - val_binary_accuracy: 0.5076\n",
      "Epoch 8/8\n",
      "625/625 [==============================] - 16s 26ms/step - loss: 0.2780 - binary_accuracy: 0.4981 - val_loss: 0.3195 - val_binary_accuracy: 0.5076\n"
     ]
    }
   ],
   "source": [
    "epochs = 8      # Pour emb_dim = 150, sur-apprend au-délà de 8 époques\n",
    "history = model.fit(\n",
    "    train_ds,\n",
    "    validation_data=val_ds,\n",
    "    epochs=epochs)"
   ]
  },
  {
   "cell_type": "code",
   "execution_count": 17,
   "metadata": {},
   "outputs": [
    {
     "name": "stdout",
     "output_type": "stream",
     "text": [
      "782/782 [==============================] - 1s 2ms/step - loss: 0.3207 - binary_accuracy: 0.8668\n",
      "Erreur : 0.32067352533340454\n",
      "Précision: 0.8668000102043152\n"
     ]
    }
   ],
   "source": [
    "loss, accuracy = model.evaluate(test_ds)\n",
    "\n",
    "print(f\"Erreur : {loss}\")\n",
    "print(f\"Précision: {accuracy}\")"
   ]
  },
  {
   "cell_type": "code",
   "execution_count": 18,
   "metadata": {},
   "outputs": [],
   "source": [
    "# Exportation du modèle\n",
    "export_model = tf.keras.Sequential([\n",
    "  tokenizer_layer,\n",
    "  model,\n",
    "  tf.keras.layers.Activation('sigmoid')\n",
    "])\n",
    "\n",
    "export_model.compile(\n",
    "    loss=tf.keras.losses.BinaryCrossentropy(from_logits=False), optimizer=\"adam\", metrics=['accuracy']\n",
    ")"
   ]
  },
  {
   "cell_type": "code",
   "execution_count": 19,
   "metadata": {},
   "outputs": [
    {
     "name": "stdout",
     "output_type": "stream",
     "text": [
      "782/782 [==============================] - 3s 4ms/step - loss: 0.3207 - accuracy: 0.8668\n",
      "0.8668000102043152\n"
     ]
    }
   ],
   "source": [
    "loss, accuracy = export_model.evaluate(raw_test_ds) # Noter qu'avec la couche de Vect on faire passer l'ensemble de données au format string\n",
    "print(accuracy)"
   ]
  }
 ],
 "metadata": {
  "kernelspec": {
   "display_name": "Python 3.10.4 ('tensorF')",
   "language": "python",
   "name": "python3"
  },
  "language_info": {
   "codemirror_mode": {
    "name": "ipython",
    "version": 3
   },
   "file_extension": ".py",
   "mimetype": "text/x-python",
   "name": "python",
   "nbconvert_exporter": "python",
   "pygments_lexer": "ipython3",
   "version": "3.10.4"
  },
  "orig_nbformat": 4,
  "vscode": {
   "interpreter": {
    "hash": "109a7cdcd8654e0ad7600619333c61c6996e73d2e81b79f582612eb56b6147e1"
   }
  }
 },
 "nbformat": 4,
 "nbformat_minor": 2
}
