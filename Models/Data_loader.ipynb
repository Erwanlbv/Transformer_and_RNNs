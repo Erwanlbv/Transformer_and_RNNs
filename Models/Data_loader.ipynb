{
 "cells": [
  {
   "cell_type": "markdown",
   "metadata": {},
   "source": [
    "## IWSLT Dataset\n",
    "https://pytorch.org/text/stable/datasets.html#machine-translation"
   ]
  },
  {
   "cell_type": "code",
   "execution_count": 2,
   "metadata": {},
   "outputs": [],
   "source": [
    "import torch\n",
    "import torchtext.datasets as datasets\n",
    "\n",
    "import pandas as pd\n",
    "\n",
    "from torch.utils.data import DataLoader"
   ]
  },
  {
   "cell_type": "code",
   "execution_count": 3,
   "metadata": {},
   "outputs": [],
   "source": [
    "# Chemin vers les bases de données\n",
    "fr_url = \"/Users/erwan/Programmes/Stage/dlexperiments/Erwan/Machine_Translation/datasets/IWSLT2016/2016-01/texts/en/fr/en-fr/train.tags.en-fr.fr\"\n",
    "en_url = \"/Users/erwan/Programmes/Stage/dlexperiments/Erwan/Machine_Translation/datasets/IWSLT2016/2016-01/texts/en/fr/en-fr/train.tags.en-fr.en\""
   ]
  },
  {
   "cell_type": "code",
   "execution_count": 4,
   "metadata": {},
   "outputs": [
    {
     "data": {
      "text/plain": [
       "(234993, 234993)"
      ]
     },
     "execution_count": 4,
     "metadata": {},
     "output_type": "execute_result"
    }
   ],
   "source": [
    "english_txt = open(en_url, encoding='utf8').read().split('\\n')\n",
    "french_txt = open(fr_url, encoding='utf8').read().split('\\n')\n",
    "\n",
    "len(english_txt), len(french_txt)"
   ]
  },
  {
   "cell_type": "code",
   "execution_count": 5,
   "metadata": {},
   "outputs": [],
   "source": [
    "ds_len = len(english_txt)\n",
    "ds_taken = int(ds_len / 100)\n",
    "# On divise la base de données en 2 pour l'apprentissage / le test\n",
    "# À FAIRE : Mélanger les phrases à ce moments là\n",
    "raw_ds = {\n",
    "    'English': [line for line in english_txt[:ds_taken]],\n",
    "    'French': [line for line in french_txt[:ds_taken]]\n",
    "}"
   ]
  },
  {
   "cell_type": "code",
   "execution_count": 6,
   "metadata": {},
   "outputs": [
    {
     "data": {
      "text/html": [
       "<div>\n",
       "<style scoped>\n",
       "    .dataframe tbody tr th:only-of-type {\n",
       "        vertical-align: middle;\n",
       "    }\n",
       "\n",
       "    .dataframe tbody tr th {\n",
       "        vertical-align: top;\n",
       "    }\n",
       "\n",
       "    .dataframe thead th {\n",
       "        text-align: right;\n",
       "    }\n",
       "</style>\n",
       "<table border=\"1\" class=\"dataframe\">\n",
       "  <thead>\n",
       "    <tr style=\"text-align: right;\">\n",
       "      <th></th>\n",
       "      <th>English</th>\n",
       "      <th>French</th>\n",
       "    </tr>\n",
       "  </thead>\n",
       "  <tbody>\n",
       "    <tr>\n",
       "      <th>0</th>\n",
       "      <td>&lt;url&gt;http://www.ted.com/talks/david_gallo_on_l...</td>\n",
       "      <td>&lt;url&gt;http://www.ted.com/talks/david_gallo_on_l...</td>\n",
       "    </tr>\n",
       "    <tr>\n",
       "      <th>1</th>\n",
       "      <td>&lt;keywords&gt;talks, TED Conference, animals, geol...</td>\n",
       "      <td>&lt;keywords&gt;talks, TED Conference, animals, geol...</td>\n",
       "    </tr>\n",
       "    <tr>\n",
       "      <th>2</th>\n",
       "      <td>&lt;speaker&gt;David Gallo&lt;/speaker&gt;</td>\n",
       "      <td>&lt;speaker&gt;David Gallo&lt;/speaker&gt;</td>\n",
       "    </tr>\n",
       "    <tr>\n",
       "      <th>3</th>\n",
       "      <td>&lt;talkid&gt;343&lt;/talkid&gt;</td>\n",
       "      <td>&lt;talkid&gt;343&lt;/talkid&gt;</td>\n",
       "    </tr>\n",
       "    <tr>\n",
       "      <th>4</th>\n",
       "      <td>&lt;title&gt;David Gallo: Life in the deep oceans&lt;/t...</td>\n",
       "      <td>&lt;title&gt;David Gallo : la vie dans les océans pr...</td>\n",
       "    </tr>\n",
       "  </tbody>\n",
       "</table>\n",
       "</div>"
      ],
      "text/plain": [
       "                                             English  \\\n",
       "0  <url>http://www.ted.com/talks/david_gallo_on_l...   \n",
       "1  <keywords>talks, TED Conference, animals, geol...   \n",
       "2                     <speaker>David Gallo</speaker>   \n",
       "3                               <talkid>343</talkid>   \n",
       "4  <title>David Gallo: Life in the deep oceans</t...   \n",
       "\n",
       "                                              French  \n",
       "0  <url>http://www.ted.com/talks/david_gallo_on_l...  \n",
       "1  <keywords>talks, TED Conference, animals, geol...  \n",
       "2                     <speaker>David Gallo</speaker>  \n",
       "3                               <talkid>343</talkid>  \n",
       "4  <title>David Gallo : la vie dans les océans pr...  "
      ]
     },
     "execution_count": 6,
     "metadata": {},
     "output_type": "execute_result"
    }
   ],
   "source": [
    "df = pd.DataFrame(raw_ds, columns=['English', 'French'])\n",
    "df.head()"
   ]
  },
  {
   "cell_type": "markdown",
   "metadata": {},
   "source": [
    "### Normalisation des ensembles de données\n",
    "Avec Pandas"
   ]
  },
  {
   "cell_type": "code",
   "execution_count": 7,
   "metadata": {},
   "outputs": [
    {
     "name": "stdout",
     "output_type": "stream",
     "text": [
      "\n"
     ]
    }
   ],
   "source": [
    "PATTERNS = [\"<url>\", \"<keywords>\", \"<speaker>\", '<talkid>', '<title>', '<description>']\n",
    "\n",
    "def normalizer(data):\n",
    "    data = data.strip() # Supprime les espaces aux débuts et à la fin de chaque phrases s'il y en a\n",
    "    for pattern in PATTERNS:\n",
    "        data = data.rstrip(pattern)\n",
    "        data = data.lstrip(pattern)\n",
    "    return data\n",
    "\n",
    "df = pd.DataFrame(raw_ds, columns=['English', 'French'])\n",
    "df.applymap(normalizer)\n",
    "print()"
   ]
  },
  {
   "cell_type": "code",
   "execution_count": 8,
   "metadata": {},
   "outputs": [
    {
     "data": {
      "text/html": [
       "<div>\n",
       "<style scoped>\n",
       "    .dataframe tbody tr th:only-of-type {\n",
       "        vertical-align: middle;\n",
       "    }\n",
       "\n",
       "    .dataframe tbody tr th {\n",
       "        vertical-align: top;\n",
       "    }\n",
       "\n",
       "    .dataframe thead th {\n",
       "        text-align: right;\n",
       "    }\n",
       "</style>\n",
       "<table border=\"1\" class=\"dataframe\">\n",
       "  <thead>\n",
       "    <tr style=\"text-align: right;\">\n",
       "      <th></th>\n",
       "      <th>English</th>\n",
       "      <th>French</th>\n",
       "    </tr>\n",
       "  </thead>\n",
       "  <tbody>\n",
       "    <tr>\n",
       "      <th>0</th>\n",
       "      <td>&lt;url&gt;http://www.ted.com/talks/david_gallo_on_l...</td>\n",
       "      <td>&lt;url&gt;http://www.ted.com/talks/david_gallo_on_l...</td>\n",
       "    </tr>\n",
       "    <tr>\n",
       "      <th>1</th>\n",
       "      <td>&lt;keywords&gt;talks, TED Conference, animals, geol...</td>\n",
       "      <td>&lt;keywords&gt;talks, TED Conference, animals, geol...</td>\n",
       "    </tr>\n",
       "    <tr>\n",
       "      <th>2</th>\n",
       "      <td>&lt;speaker&gt;David Gallo&lt;/speaker&gt;</td>\n",
       "      <td>&lt;speaker&gt;David Gallo&lt;/speaker&gt;</td>\n",
       "    </tr>\n",
       "    <tr>\n",
       "      <th>3</th>\n",
       "      <td>&lt;talkid&gt;343&lt;/talkid&gt;</td>\n",
       "      <td>&lt;talkid&gt;343&lt;/talkid&gt;</td>\n",
       "    </tr>\n",
       "    <tr>\n",
       "      <th>4</th>\n",
       "      <td>&lt;title&gt;David Gallo: Life in the deep oceans&lt;/t...</td>\n",
       "      <td>&lt;title&gt;David Gallo : la vie dans les océans pr...</td>\n",
       "    </tr>\n",
       "    <tr>\n",
       "      <th>5</th>\n",
       "      <td>&lt;description&gt;TED Talk Subtitles and Transcript...</td>\n",
       "      <td>&lt;description&gt;TED Talk Subtitles and Transcript...</td>\n",
       "    </tr>\n",
       "    <tr>\n",
       "      <th>6</th>\n",
       "      <td>David Gallo: This is Bill Lange. I'm Dave Gallo.</td>\n",
       "      <td>David Gallo: Voici Bill Lange. Je suis Dave Ga...</td>\n",
       "    </tr>\n",
       "    <tr>\n",
       "      <th>7</th>\n",
       "      <td>And we're going to tell you some stories from ...</td>\n",
       "      <td>Nous allons vous raconter quelques histoires d...</td>\n",
       "    </tr>\n",
       "    <tr>\n",
       "      <th>8</th>\n",
       "      <td>We've got some of the most incredible video of...</td>\n",
       "      <td>Nous avons des vidéos du Titanic parmi les plu...</td>\n",
       "    </tr>\n",
       "    <tr>\n",
       "      <th>9</th>\n",
       "      <td>The truth of the matter is that the Titanic --...</td>\n",
       "      <td>La vérité est que le Titanic -- même s'il cont...</td>\n",
       "    </tr>\n",
       "  </tbody>\n",
       "</table>\n",
       "</div>"
      ],
      "text/plain": [
       "                                             English  \\\n",
       "0  <url>http://www.ted.com/talks/david_gallo_on_l...   \n",
       "1  <keywords>talks, TED Conference, animals, geol...   \n",
       "2                     <speaker>David Gallo</speaker>   \n",
       "3                               <talkid>343</talkid>   \n",
       "4  <title>David Gallo: Life in the deep oceans</t...   \n",
       "5  <description>TED Talk Subtitles and Transcript...   \n",
       "6   David Gallo: This is Bill Lange. I'm Dave Gallo.   \n",
       "7  And we're going to tell you some stories from ...   \n",
       "8  We've got some of the most incredible video of...   \n",
       "9  The truth of the matter is that the Titanic --...   \n",
       "\n",
       "                                              French  \n",
       "0  <url>http://www.ted.com/talks/david_gallo_on_l...  \n",
       "1  <keywords>talks, TED Conference, animals, geol...  \n",
       "2                     <speaker>David Gallo</speaker>  \n",
       "3                               <talkid>343</talkid>  \n",
       "4  <title>David Gallo : la vie dans les océans pr...  \n",
       "5  <description>TED Talk Subtitles and Transcript...  \n",
       "6  David Gallo: Voici Bill Lange. Je suis Dave Ga...  \n",
       "7  Nous allons vous raconter quelques histoires d...  \n",
       "8  Nous avons des vidéos du Titanic parmi les plu...  \n",
       "9  La vérité est que le Titanic -- même s'il cont...  "
      ]
     },
     "execution_count": 8,
     "metadata": {},
     "output_type": "execute_result"
    }
   ],
   "source": [
    "df.head(10)"
   ]
  },
  {
   "cell_type": "code",
   "execution_count": 9,
   "metadata": {},
   "outputs": [
    {
     "data": {
      "text/html": [
       "<div>\n",
       "<style scoped>\n",
       "    .dataframe tbody tr th:only-of-type {\n",
       "        vertical-align: middle;\n",
       "    }\n",
       "\n",
       "    .dataframe tbody tr th {\n",
       "        vertical-align: top;\n",
       "    }\n",
       "\n",
       "    .dataframe thead th {\n",
       "        text-align: right;\n",
       "    }\n",
       "</style>\n",
       "<table border=\"1\" class=\"dataframe\">\n",
       "  <thead>\n",
       "    <tr style=\"text-align: right;\">\n",
       "      <th></th>\n",
       "      <th>English</th>\n",
       "      <th>French</th>\n",
       "    </tr>\n",
       "  </thead>\n",
       "  <tbody>\n",
       "    <tr>\n",
       "      <th>2339</th>\n",
       "      <td>&lt;keywords&gt;talks, bullying, culture, feminism, ...</td>\n",
       "      <td>&lt;keywords&gt;talks, bullying, culture, feminism, ...</td>\n",
       "    </tr>\n",
       "    <tr>\n",
       "      <th>2340</th>\n",
       "      <td>&lt;speaker&gt;Tony Porter&lt;/speaker&gt;</td>\n",
       "      <td>&lt;speaker&gt;Tony Porter&lt;/speaker&gt;</td>\n",
       "    </tr>\n",
       "    <tr>\n",
       "      <th>2341</th>\n",
       "      <td>&lt;talkid&gt;1031&lt;/talkid&gt;</td>\n",
       "      <td>&lt;talkid&gt;1031&lt;/talkid&gt;</td>\n",
       "    </tr>\n",
       "    <tr>\n",
       "      <th>2342</th>\n",
       "      <td>&lt;title&gt;Tony Porter: A call to men&lt;/title&gt;</td>\n",
       "      <td>&lt;title&gt;Tony Porter : un appel aux hommes&lt;/title&gt;</td>\n",
       "    </tr>\n",
       "    <tr>\n",
       "      <th>2343</th>\n",
       "      <td>&lt;description&gt;TED Talk Subtitles and Transcript...</td>\n",
       "      <td>&lt;description&gt;TED Talk Subtitles and Transcript...</td>\n",
       "    </tr>\n",
       "    <tr>\n",
       "      <th>2344</th>\n",
       "      <td>I grew up in New York City, between Harlem and...</td>\n",
       "      <td>J'ai grandi à New York, entre Harlem et le Bronx</td>\n",
       "    </tr>\n",
       "    <tr>\n",
       "      <th>2345</th>\n",
       "      <td>Growing up as a boy, we were taught that men h...</td>\n",
       "      <td>En tant que garçon, quand je grandissais, on n...</td>\n",
       "    </tr>\n",
       "    <tr>\n",
       "      <th>2346</th>\n",
       "      <td>I've later come to know that to be the collect...</td>\n",
       "      <td>Plus tard, j'ai appris que c'était la socialis...</td>\n",
       "    </tr>\n",
       "    <tr>\n",
       "      <th>2347</th>\n",
       "      <td>See this man box has in it all the ingredients...</td>\n",
       "      <td>Vous voyez cette boîte à hommes contient tous ...</td>\n",
       "    </tr>\n",
       "    <tr>\n",
       "      <th>2348</th>\n",
       "      <td>Now I also want to say, without a doubt, there...</td>\n",
       "      <td>Et je veux aussi dire, sans aucun doute, il y ...</td>\n",
       "    </tr>\n",
       "  </tbody>\n",
       "</table>\n",
       "</div>"
      ],
      "text/plain": [
       "                                                English  \\\n",
       "2339  <keywords>talks, bullying, culture, feminism, ...   \n",
       "2340                     <speaker>Tony Porter</speaker>   \n",
       "2341                              <talkid>1031</talkid>   \n",
       "2342          <title>Tony Porter: A call to men</title>   \n",
       "2343  <description>TED Talk Subtitles and Transcript...   \n",
       "2344  I grew up in New York City, between Harlem and...   \n",
       "2345  Growing up as a boy, we were taught that men h...   \n",
       "2346  I've later come to know that to be the collect...   \n",
       "2347  See this man box has in it all the ingredients...   \n",
       "2348  Now I also want to say, without a doubt, there...   \n",
       "\n",
       "                                                 French  \n",
       "2339  <keywords>talks, bullying, culture, feminism, ...  \n",
       "2340                     <speaker>Tony Porter</speaker>  \n",
       "2341                              <talkid>1031</talkid>  \n",
       "2342   <title>Tony Porter : un appel aux hommes</title>  \n",
       "2343  <description>TED Talk Subtitles and Transcript...  \n",
       "2344   J'ai grandi à New York, entre Harlem et le Bronx  \n",
       "2345  En tant que garçon, quand je grandissais, on n...  \n",
       "2346  Plus tard, j'ai appris que c'était la socialis...  \n",
       "2347  Vous voyez cette boîte à hommes contient tous ...  \n",
       "2348  Et je veux aussi dire, sans aucun doute, il y ...  "
      ]
     },
     "execution_count": 9,
     "metadata": {},
     "output_type": "execute_result"
    }
   ],
   "source": [
    "df.tail(10)"
   ]
  },
  {
   "cell_type": "code",
   "execution_count": 10,
   "metadata": {},
   "outputs": [],
   "source": [
    "from sklearn.model_selection import train_test_split\n",
    "\n",
    "ds_train, ds_test = train_test_split(df, test_size=0.5)"
   ]
  },
  {
   "cell_type": "code",
   "execution_count": 11,
   "metadata": {},
   "outputs": [],
   "source": [
    "ds_train, ds_val = train_test_split(ds_train, test_size=0.2)"
   ]
  },
  {
   "cell_type": "code",
   "execution_count": 12,
   "metadata": {},
   "outputs": [
    {
     "data": {
      "text/plain": [
       "(939, 235)"
      ]
     },
     "execution_count": 12,
     "metadata": {},
     "output_type": "execute_result"
    }
   ],
   "source": [
    "len(ds_train), len(ds_val)"
   ]
  },
  {
   "cell_type": "code",
   "execution_count": 13,
   "metadata": {},
   "outputs": [],
   "source": [
    "import re"
   ]
  },
  {
   "cell_type": "code",
   "execution_count": 14,
   "metadata": {},
   "outputs": [
    {
     "data": {
      "text/plain": [
       "'<title>ajd<title>faebnd<title>'"
      ]
     },
     "execution_count": 14,
     "metadata": {},
     "output_type": "execute_result"
    }
   ],
   "source": [
    "s = '<title>ajd<title>fae<head>bnd<title>'\n",
    "res = re.sub('<head>', '', s)\n",
    "res"
   ]
  },
  {
   "cell_type": "code",
   "execution_count": 15,
   "metadata": {},
   "outputs": [
    {
     "ename": "",
     "evalue": "",
     "output_type": "error",
     "traceback": [
      "\u001b[1;31mCanceled future for execute_request message before replies were done"
     ]
    },
    {
     "ename": "",
     "evalue": "",
     "output_type": "error",
     "traceback": [
      "\u001b[1;31mLe Kernel s’est bloqué lors de l’exécution du code dans la cellule active ou une cellule précédente. Veuillez vérifier le code dans la ou les cellules pour identifier une cause possible de l’échec. Cliquez <a href='https://aka.ms/vscodeJupyterKernelCrash'>ici</a> pour plus d’informations. Pour plus d’informations, consultez Jupyter <a href='command:jupyter.viewOutput'>log</a>."
     ]
    }
   ],
   "source": [
    "for pattern in PATTERNS:\n",
    "    PATTERNS.append(pattern[:1] + \"\\\\\" + pattern[1:])\n",
    "    print(pattern)\n",
    "PATTERNS"
   ]
  }
 ],
 "metadata": {
  "kernelspec": {
   "display_name": "Python 3.10.4 ('IA-torch')",
   "language": "python",
   "name": "python3"
  },
  "language_info": {
   "codemirror_mode": {
    "name": "ipython",
    "version": 3
   },
   "file_extension": ".py",
   "mimetype": "text/x-python",
   "name": "python",
   "nbconvert_exporter": "python",
   "pygments_lexer": "ipython3",
   "version": "3.10.4"
  },
  "orig_nbformat": 4,
  "vscode": {
   "interpreter": {
    "hash": "701f8f61e2df02aa7711dfd09ce0ea30c74b88eb04e87f301847efa4bff5d6ef"
   }
  }
 },
 "nbformat": 4,
 "nbformat_minor": 2
}
