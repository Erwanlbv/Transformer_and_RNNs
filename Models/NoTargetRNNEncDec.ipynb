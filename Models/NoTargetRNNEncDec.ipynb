{
 "cells": [
  {
   "cell_type": "markdown",
   "metadata": {},
   "source": [
    "## Implémentation d'un RNN Encodeur-Décodeur qui ne prend pas en entrée les mots cibles\n",
    "*Figure (schéma de l'architecture) à faire*"
   ]
  },
  {
   "cell_type": "code",
   "execution_count": 9,
   "metadata": {},
   "outputs": [],
   "source": [
    "import torch \n",
    "import torch.nn as nn\n",
    "import torch.nn.functional as F"
   ]
  },
  {
   "cell_type": "markdown",
   "metadata": {},
   "source": [
    "### Partie Encodeur \n",
    "- Classique, pas de modifications ici"
   ]
  },
  {
   "cell_type": "code",
   "execution_count": 4,
   "metadata": {},
   "outputs": [],
   "source": [
    "class Encoder(nn.Module):\n",
    "    def __init__(self, emb_dim, hidden_size, num_layers=1, vocab_size=1000) -> None:\n",
    "        super(Encoder, self).__init__()\n",
    "\n",
    "        self.num_layers = num_layers\n",
    "        self.emb_dim = emb_dim\n",
    "        self.hidden_size = hidden_size\n",
    "        self.vocab_size = vocab_size\n",
    "\n",
    "        self.embedding = nn.Embedding(\n",
    "            num_embeddings=self.vocab_size,\n",
    "            embedding_dim=self.emb_dim\n",
    "        )\n",
    "\n",
    "        self.rnn = nn.RNN(\n",
    "            input_size=self.emb_dim,\n",
    "            hidden_size=self.hidden_size,\n",
    "            num_layers=self.num_layers,\n",
    "            batch_first=True,\n",
    "        )\n",
    "\n",
    "    def forward(self, input_sequence, hidden):\n",
    "\n",
    "        embedded_sequence =  self.embedding(input_sequence)\n",
    "        output_sequence, hidden = self.rnn(embedded_sequence, hidden)\n",
    "\n",
    "        return output_sequence, hidden\n",
    "\n",
    "    # def hinit(self):\n",
    "    #     print('hey')\n",
    "    #     # num_layers, batch_size=1, hidden_size \n",
    "    #     h0 = torch.zeros(size=(self.num_layers, 1, self.hidden_size))\n",
    "    #     return h0\n"
   ]
  },
  {
   "cell_type": "code",
   "execution_count": 5,
   "metadata": {},
   "outputs": [],
   "source": [
    "encodeur = Encoder(100, 50, 2, 1000)"
   ]
  },
  {
   "cell_type": "code",
   "execution_count": 30,
   "metadata": {},
   "outputs": [
    {
     "data": {
      "text/plain": [
       "(torch.Size([32, 10, 50]), torch.Size([2, 32, 50]))"
      ]
     },
     "execution_count": 30,
     "metadata": {},
     "output_type": "execute_result"
    }
   ],
   "source": [
    "batch_sequence = torch.randint(1000, size=(32, 10))\n",
    "\n",
    "batch_hidden_input = torch.randint(10, size=(2, 32, 50), dtype=torch.float32)\n",
    "\n",
    "enc_res = encodeur(batch_sequence, batch_hidden_input)\n",
    "enc_res[0].shape, enc_res[1].shape"
   ]
  },
  {
   "cell_type": "markdown",
   "metadata": {},
   "source": [
    "### Décodeur\n",
    "- Partie avec des modifications vis à vis de l'architecture clasique "
   ]
  },
  {
   "cell_type": "code",
   "execution_count": 31,
   "metadata": {},
   "outputs": [],
   "source": [
    "class Decodeur(nn.Module):\n",
    "\n",
    "    def __init__(self, emb_dim, hidden_size, num_layers=1, vocab_size=500) -> None:\n",
    "        super(Decodeur, self).__init__()\n",
    "\n",
    "        self.vocab_size = vocab_size\n",
    "        self.num_layers = num_layers\n",
    "\n",
    "        self.embedding_dim = emb_dim\n",
    "        self.hidden_size = hidden_size\n",
    "\n",
    "        self.embedding = nn.Embedding(\n",
    "            num_embeddings=self.vocab_size,\n",
    "            embedding_dim=self.embedding_dim\n",
    "        )\n",
    "\n",
    "        self.rnn = nn.RNN(\n",
    "            input_size=self.embedding_dim + self.hidden_size,\n",
    "            hidden_size=self.hidden_size,\n",
    "            num_layers=self.num_layers,\n",
    "            batch_first=True,\n",
    "        )\n",
    "\n",
    "        self.linear = nn.Linear(\n",
    "            in_features=self.embedding_dim + 2 * self.hidden_size,\n",
    "            out_features=self.vocab_size,\n",
    "            bias=False\n",
    "        )\n",
    "\n",
    "    def forward(self, input_sequence, hidden, context):\n",
    "        seq_len = input_sequence.shape[1]\n",
    "\n",
    "        embedded_input = self.embedding(input_sequence) # batch_size, seq_len, emb_dim\n",
    "        \n",
    "        c = context[-1] # batch_size, hidden_size\n",
    "        c = torch.unsqueeze(c, dim=1) # batch_size, 1, hidden_size\n",
    "        c = torch.cat((c, )*seq_len, dim=1)  #batch_size, seq_len, hidden_size\n",
    "        \n",
    "        z_concat = torch.cat((embedded_input, c), dim=2)\n",
    "        sequence_output, hidden = self.rnn(z_concat, hidden)\n",
    "        # sequence_ouput : batch_size, seq_len, hidden_size\n",
    "        # hidden : num_layers, batch_size, hidden_size \n",
    "\n",
    "        output_concat = torch.cat((z_concat, sequence_output), dim=2)\n",
    "        preds =  F.softmax(self.linear(output_concat), dim=2) #batch_size, sequence_len, vocab_size\n",
    "\n",
    "        return preds, hidden\n",
    "\n"
   ]
  },
  {
   "cell_type": "code",
   "execution_count": 32,
   "metadata": {},
   "outputs": [],
   "source": [
    "decodeur = Decodeur(150, 60, 2, 1000)"
   ]
  },
  {
   "cell_type": "code",
   "execution_count": 33,
   "metadata": {},
   "outputs": [
    {
     "data": {
      "text/plain": [
       "(torch.Size([32, 11, 1000]), torch.Size([2, 32, 60]))"
      ]
     },
     "execution_count": 33,
     "metadata": {},
     "output_type": "execute_result"
    }
   ],
   "source": [
    "context = torch.randint(10, size=(2, 32, 60), dtype=torch.float32)\n",
    "input_sequence = torch.randint(1000, size=(32, 11))\n",
    "h_init = context\n",
    "\n",
    "res = decodeur(input_sequence, h_init, context)\n",
    "res[0].shape, res[1].shape"
   ]
  },
  {
   "cell_type": "code",
   "execution_count": null,
   "metadata": {},
   "outputs": [],
   "source": []
  }
 ],
 "metadata": {
  "kernelspec": {
   "display_name": "Python 3.10.4 ('IA-torch')",
   "language": "python",
   "name": "python3"
  },
  "language_info": {
   "codemirror_mode": {
    "name": "ipython",
    "version": 3
   },
   "file_extension": ".py",
   "mimetype": "text/x-python",
   "name": "python",
   "nbconvert_exporter": "python",
   "pygments_lexer": "ipython3",
   "version": "3.10.4"
  },
  "orig_nbformat": 4,
  "vscode": {
   "interpreter": {
    "hash": "701f8f61e2df02aa7711dfd09ce0ea30c74b88eb04e87f301847efa4bff5d6ef"
   }
  }
 },
 "nbformat": 4,
 "nbformat_minor": 2
}
